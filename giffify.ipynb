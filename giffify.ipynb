{
 "cells": [
  {
   "cell_type": "code",
   "execution_count": 6,
   "metadata": {},
   "outputs": [],
   "source": [
    "import pickle\n",
    "from matplotlib import pyplot\n",
    "from main import *"
   ]
  },
  {
   "cell_type": "code",
   "execution_count": 2,
   "metadata": {},
   "outputs": [],
   "source": [
    "mPickleFile = 'example-pureAbsorber.yaml-2aaabf643f78.pickle'\n",
    "with open(mPickleFile, 'rb') as pickled:\n",
    "    mm = pickle.load(pickled)"
   ]
  },
  {
   "cell_type": "code",
   "execution_count": 3,
   "metadata": {},
   "outputs": [
    {
     "data": {
      "text/plain": [
       "<Manager for input file example-pureAbsorber.yaml at 0x7f9936d5f0d8>"
      ]
     },
     "execution_count": 3,
     "metadata": {},
     "output_type": "execute_result"
    }
   ],
   "source": [
    "mm"
   ]
  },
  {
   "cell_type": "code",
   "execution_count": 5,
   "metadata": {},
   "outputs": [
    {
     "data": {
      "text/plain": [
       "{'boundaries': {'x': [<main.PulsedSource at 0x7f9936dcb748>, 0]},\n",
       " 'calc': 'fixed',\n",
       " 'geometry': {'bounds': array([10.]),\n",
       "  'divisions': array([10]),\n",
       "  'universes': [<scrapexs.XSContainer for univ 11 at 0x7f995e7b3320>]},\n",
       " 'initial': {'flux': 0},\n",
       " 'innerEps': 1e-06,\n",
       " 'innerLim': 10000,\n",
       " 'left-source': {'mag': '1E14', 't0': 0, 't1': 1},\n",
       " 'outerEps': 1e-08,\n",
       " 'outerLim': 100,\n",
       " 'quadrature': 2,\n",
       " 'source': None,\n",
       " 'time': {'bounds': array([2.]), 'divisions': array([1000])},\n",
       " 'xsfile': './fp_1D_1G_PA_res.m'}"
      ]
     },
     "execution_count": 5,
     "metadata": {},
     "output_type": "execute_result"
    }
   ],
   "source": [
    "mm.settings"
   ]
  },
  {
   "cell_type": "code",
   "execution_count": 8,
   "metadata": {},
   "outputs": [
    {
     "data": {
      "text/plain": [
       "(1001,)"
      ]
     },
     "execution_count": 8,
     "metadata": {},
     "output_type": "execute_result"
    }
   ],
   "source": [
    "mm.tgrid.shape"
   ]
  },
  {
   "cell_type": "code",
   "execution_count": 13,
   "metadata": {},
   "outputs": [],
   "source": [
    "def giffify(manager, preffix=''):\n",
    "    preffix += '_' if preffix else ''\n",
    "    fmt = preffix + \"step{}\"\n",
    "    fig, ax = pyplot.subplots(1,1)\n",
    "    for step in range(manager.tgrid.size):\n",
    "        ax = manager.plotAngular(step, ax=ax)\n",
    "        fig.savefig(fmt.format(step), bbox_inches='tight')\n",
    "        ax.clear()"
   ]
  },
  {
   "cell_type": "code",
   "execution_count": null,
   "metadata": {},
   "outputs": [],
   "source": [
    "giffify(mm)"
   ]
  },
  {
   "cell_type": "code",
   "execution_count": null,
   "metadata": {},
   "outputs": [],
   "source": []
  }
 ],
 "metadata": {
  "kernelspec": {
   "display_name": "Python 3",
   "language": "python",
   "name": "python3"
  },
  "language_info": {
   "codemirror_mode": {
    "name": "ipython",
    "version": 3
   },
   "file_extension": ".py",
   "mimetype": "text/x-python",
   "name": "python",
   "nbconvert_exporter": "python",
   "pygments_lexer": "ipython3",
   "version": "3.6.5"
  }
 },
 "nbformat": 4,
 "nbformat_minor": 2
}
